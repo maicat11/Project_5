{
 "cells": [
  {
   "cell_type": "code",
   "execution_count": null,
   "metadata": {},
   "outputs": [],
   "source": [
    "import keras\n",
    "from keras.models import Model, load_model\n",
    "from keras.utils import np_utils\n",
    "from keras.layers import Input, Dense, Dot, Softmax\n",
    "from keras.callbacks import ModelCheckpoint, EarlyStopping\n",
    "from sklearn.utils import shuffle\n",
    "\n",
    "import numpy as np\n",
    "import pandas as pd\n",
    "import pickle\n",
    "\n",
    "# custom functions\n",
    "from layer_output import get_dense_layers, paths_to_tensor\n",
    "from loading import load_files       \n",
    "\n",
    "import matplotlib.pyplot as plt\n",
    "%matplotlib inline"
   ]
  },
  {
   "cell_type": "code",
   "execution_count": null,
   "metadata": {},
   "outputs": [],
   "source": [
    "# define function to load train, test, and validation datasets\n",
    "def load_dataset(path):\n",
    "    data = load_files(path, ignore_files='.DS_Store')\n",
    "    shoe_files = np.array(data['filenames'])\n",
    "    shoe_targets = np_utils.to_categorical(np.array(data['target']), 9)\n",
    "    return shoe_files, shoe_targets\n",
    "\n",
    "# load train, test, and validation datasets\n",
    "train_files, train_targets = load_dataset('../data/shoes/train')\n",
    "valid_files, valid_targets = load_dataset('../data/shoes/validate')\n",
    "test_files, test_targets = load_dataset('../data/shoes/test')"
   ]
  },
  {
   "cell_type": "code",
   "execution_count": null,
   "metadata": {},
   "outputs": [],
   "source": [
    "clothing_to_vector_model = load_model('saved_models/clothes2_cnn.h5')\n",
    "clothing_to_vector_model.load_weights('saved_models/weights.best.from_scratch.hdf5')"
   ]
  },
  {
   "cell_type": "code",
   "execution_count": null,
   "metadata": {},
   "outputs": [],
   "source": [
    "all_shoe_paths = np.append(train_files, np.append(valid_files, test_files))\n",
    "\n",
    "dense_layers, dense_df = get_dense_layers(clothing_to_vector_model, all_shoe_paths)\n",
    "pickle.dump(dense_df, open(\"saved_models/dense_shoe_df2.pickle\", \"wb\" ))\n",
    "print(dense_layers.shape)\n",
    "print(dense_df.shape)\n",
    "dense_df.head()"
   ]
  },
  {
   "cell_type": "code",
   "execution_count": null,
   "metadata": {},
   "outputs": [],
   "source": [
    "shoe_df = dense_df\n",
    "print(shoe_df.shape)\n",
    "shoe_df.head()"
   ]
  },
  {
   "cell_type": "code",
   "execution_count": null,
   "metadata": {},
   "outputs": [],
   "source": [
    "# create a lookup vector dictionary for clothing and shoes\n",
    "clothing_df = pd.read_pickle('saved_models/dense_clothing_df.pickle')\n",
    "\n",
    "clothing_dim = clothing_df.shape[1]\n",
    "shoe_dim = shoe_df.shape[1]\n",
    "\n",
    "clothing_dict = {}\n",
    "for idx in clothing_df.index:\n",
    "    clothing_dict[idx] = np.array(clothing_df.loc[idx]).reshape(1, clothing_dim)\n",
    "    \n",
    "shoe_dict = {}\n",
    "for idx in shoe_df.index:\n",
    "    shoe_dict[idx] = np.array(shoe_df.loc[idx]).reshape(1, shoe_dim)"
   ]
  },
  {
   "cell_type": "code",
   "execution_count": null,
   "metadata": {},
   "outputs": [],
   "source": [
    "link_df = pd.read_csv('../data/links.txt')\n",
    "link_df = link_df.dropna().reset_index(drop=True)\n",
    "print(link_df.shape)\n",
    "link_df.head()"
   ]
  },
  {
   "cell_type": "code",
   "execution_count": null,
   "metadata": {},
   "outputs": [],
   "source": [
    "def get_dataset(df, dictionary, c_or_s):\n",
    "    assert (c_or_s == 'c' or c_or_s == 's')\n",
    "    if c_or_s == 'c':\n",
    "        array = np.empty(shape=(0, clothing_dim))\n",
    "        path = 'clothing_path'\n",
    "    else:\n",
    "        array = np.empty(shape=(0, shoe_dim))\n",
    "        path = 'shoe_path'\n",
    "    \n",
    "    for i in range(df.shape[0]):\n",
    "        array = np.append(array, dictionary[df[path][i]], axis=0)\n",
    "        \n",
    "    return array"
   ]
  },
  {
   "cell_type": "code",
   "execution_count": null,
   "metadata": {},
   "outputs": [],
   "source": [
    "link_df = shuffle(link_df)\n",
    "split1 = int(link_df.shape[0]*0.8)\n",
    "split2 = int(link_df.shape[0]*0.9)\n",
    "\n",
    "train_paths = link_df.iloc[0:split1].reset_index(drop=True)\n",
    "valid_paths = link_df.iloc[split1:split2].reset_index(drop=True)\n",
    "test_paths = link_df.iloc[split2:].reset_index(drop=True)\n",
    "\n",
    "train_cloth_vecs = get_dataset(train_paths, clothing_dict, 'c')\n",
    "valid_cloth_vecs = get_dataset(valid_paths, clothing_dict, 'c')\n",
    "test_cloth_vecs = get_dataset(test_paths, clothing_dict, 'c')\n",
    "\n",
    "train_shoe_vecs = get_dataset(train_paths, shoe_dict, 's')\n",
    "valid_shoe_vecs = get_dataset(valid_paths, shoe_dict, 's')\n",
    "test_shoe_vecs = get_dataset(test_paths, shoe_dict, 's')\n",
    "\n",
    "train_targets = np.array(link_df['response'].iloc[0:split1])\n",
    "valid_targets = np.array(link_df['response'].iloc[split1:split2])\n",
    "test_targets = np.array(link_df['response'].iloc[split2:])"
   ]
  },
  {
   "cell_type": "code",
   "execution_count": null,
   "metadata": {},
   "outputs": [],
   "source": [
    "clothing_input = Input(shape=[clothing_dim], name='clothing_input')\n",
    "clothing_transform = Dense(shoe_dim, activation='linear', name='clothing_to_shoe')(clothing_input)\n",
    "\n",
    "shoe_input = Input(shape=[shoe_dim], name='shoe_input')\n",
    "\n",
    "prod = Dot(axes=1, name='DotProduct', normalize=True)([clothing_transform, shoe_input])\n",
    "pred = Dense(1, name='Prediction',  activation='sigmoid')(prod)\n",
    "\n",
    "model = Model(inputs=[clothing_input, shoe_input], outputs=[pred])\n",
    "model.summary()"
   ]
  },
  {
   "cell_type": "code",
   "execution_count": null,
   "metadata": {},
   "outputs": [],
   "source": [
    "model.compile(optimizer='Adam', loss='binary_crossentropy', metrics=['accuracy'])"
   ]
  },
  {
   "cell_type": "code",
   "execution_count": null,
   "metadata": {
    "scrolled": true
   },
   "outputs": [],
   "source": [
    "epochs = 30\n",
    "\n",
    "early_stop = EarlyStopping(monitor='val_loss', patience=3)\n",
    "checkpointer = ModelCheckpoint(filepath='saved_models/weights.best.vector_links2.hdf5', \n",
    "                               verbose=1, save_best_only=True)\n",
    "\n",
    "history = model.fit([train_cloth_vecs, train_shoe_vecs], train_targets, epochs=epochs, \n",
    "                    validation_data=([valid_cloth_vecs, valid_shoe_vecs], valid_targets),\n",
    "                    verbose=1, callbacks=[checkpointer, early_stop])"
   ]
  },
  {
   "cell_type": "code",
   "execution_count": null,
   "metadata": {},
   "outputs": [],
   "source": [
    "acc = history.history['acc']\n",
    "val_acc = history.history['val_acc']\n",
    "loss = history.history['loss']\n",
    "val_loss = history.history['val_loss']\n",
    "epochs = range(1, len(acc) + 1)\n",
    "plt.figure(figsize=(16,5))\n",
    "plt.subplot(1,2,1)\n",
    "plt.plot(epochs, acc, 'bo', label='Training acc')\n",
    "plt.plot(epochs, val_acc, 'b', label='Validation acc', c='r')\n",
    "plt.title('Training and validation accuracy')\n",
    "plt.legend()\n",
    "plt.subplot(1,2,2)\n",
    "plt.plot(epochs, loss, 'bo', label='Training loss')\n",
    "plt.plot(epochs, val_loss, 'b', label='Validation loss', c='r')\n",
    "plt.title('Training and validation loss')\n",
    "plt.legend();"
   ]
  },
  {
   "cell_type": "code",
   "execution_count": null,
   "metadata": {},
   "outputs": [],
   "source": [
    "# get index of predicted item for each image in test set\n",
    "predictions = model.predict([test_cloth_vecs, test_shoe_vecs])\n",
    "predictions[:] = predictions[:] > 0.499999999\n",
    "predictions = predictions.reshape(1, -1)\n",
    "test_accuracy = 100*np.sum(predictions==test_targets) / predictions.shape[1]\n",
    "test_accuracy"
   ]
  },
  {
   "cell_type": "code",
   "execution_count": null,
   "metadata": {},
   "outputs": [],
   "source": [
    "dress_to_shoe_transform = Model(inputs=[clothing_input], outputs=[clothing_transform])\n",
    "dress_to_shoe_transform.predict(train_cloth_vecs).shape"
   ]
  },
  {
   "cell_type": "code",
   "execution_count": null,
   "metadata": {},
   "outputs": [],
   "source": [
    "model.get_layer(name='Prediction').get_weights()"
   ]
  },
  {
   "cell_type": "code",
   "execution_count": null,
   "metadata": {},
   "outputs": [],
   "source": [
    "dress_to_shoe_transform.save('saved_models/dress2shoe3.h5')\n",
    "dress_to_shoe_transform.save_weights('saved_models/dress2shoe_weights3.hdf5')"
   ]
  },
  {
   "cell_type": "code",
   "execution_count": null,
   "metadata": {},
   "outputs": [],
   "source": []
  },
  {
   "cell_type": "code",
   "execution_count": null,
   "metadata": {},
   "outputs": [],
   "source": []
  },
  {
   "cell_type": "code",
   "execution_count": null,
   "metadata": {},
   "outputs": [],
   "source": []
  },
  {
   "cell_type": "code",
   "execution_count": null,
   "metadata": {},
   "outputs": [],
   "source": []
  }
 ],
 "metadata": {
  "kernelspec": {
   "display_name": "fixed_kernel",
   "language": "python",
   "name": "project5_2"
  },
  "language_info": {
   "codemirror_mode": {
    "name": "ipython",
    "version": 3
   },
   "file_extension": ".py",
   "mimetype": "text/x-python",
   "name": "python",
   "nbconvert_exporter": "python",
   "pygments_lexer": "ipython3",
   "version": "3.6.8"
  }
 },
 "nbformat": 4,
 "nbformat_minor": 2
}
