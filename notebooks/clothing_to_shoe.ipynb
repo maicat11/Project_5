{
 "cells": [
  {
   "cell_type": "markdown",
   "metadata": {},
   "source": [
    "# Clothing Vec to Shoe Vec Training"
   ]
  },
  {
   "cell_type": "code",
   "execution_count": 3,
   "metadata": {},
   "outputs": [],
   "source": [
    "import keras\n",
    "from keras.layers import Input, Dense, Dot, Softmax\n",
    "from keras.models import Model\n",
    "\n",
    "import numpy as np\n",
    "import pandas as pd\n",
    "# import pickle"
   ]
  },
  {
   "cell_type": "code",
   "execution_count": 28,
   "metadata": {},
   "outputs": [],
   "source": [
    "# create a lookup vector dictionary for clothing and shoes\n",
    "clothing_df = pd.read_pickle('saved_models/dense_clothing_df.pickle')\n",
    "shoe_df = pd.read_pickle('saved_models/dense_shoe_df.pickle')\n",
    "\n",
    "clothing_dict = {}\n",
    "for idx in clothing_df.index:\n",
    "    clothing_dict[idx] = np.array(clothing_df.loc[idx])\n",
    "    \n",
    "shoe_dict = {}\n",
    "for idx in shoe_df.index:\n",
    "    shoe_dict[idx] = np.array(shoe_df.loc[idx])    "
   ]
  },
  {
   "cell_type": "code",
   "execution_count": 6,
   "metadata": {},
   "outputs": [
    {
     "name": "stdout",
     "output_type": "stream",
     "text": [
      "(5674, 3)\n"
     ]
    },
    {
     "data": {
      "text/html": [
       "<div>\n",
       "<style scoped>\n",
       "    .dataframe tbody tr th:only-of-type {\n",
       "        vertical-align: middle;\n",
       "    }\n",
       "\n",
       "    .dataframe tbody tr th {\n",
       "        vertical-align: top;\n",
       "    }\n",
       "\n",
       "    .dataframe thead th {\n",
       "        text-align: right;\n",
       "    }\n",
       "</style>\n",
       "<table border=\"1\" class=\"dataframe\">\n",
       "  <thead>\n",
       "    <tr style=\"text-align: right;\">\n",
       "      <th></th>\n",
       "      <th>clothing_path</th>\n",
       "      <th>shoe_path</th>\n",
       "      <th>response</th>\n",
       "    </tr>\n",
       "  </thead>\n",
       "  <tbody>\n",
       "    <tr>\n",
       "      <th>0</th>\n",
       "      <td>../data/clothing2/train/black_short_dresses/bl...</td>\n",
       "      <td>../data/shoes/train/heels/8113201.69035.jpg</td>\n",
       "      <td>0.0</td>\n",
       "    </tr>\n",
       "    <tr>\n",
       "      <th>1</th>\n",
       "      <td>../data/clothing2/train/light_blue_short_dress...</td>\n",
       "      <td>../data/shoes/train/athletic/8140605.151.jpg</td>\n",
       "      <td>0.0</td>\n",
       "    </tr>\n",
       "    <tr>\n",
       "      <th>2</th>\n",
       "      <td>../data/clothing2/train/brown_suede_jackets/br...</td>\n",
       "      <td>../data/shoes/train/knee_boots/7347958.281.jpg</td>\n",
       "      <td>0.0</td>\n",
       "    </tr>\n",
       "    <tr>\n",
       "      <th>3</th>\n",
       "      <td>../data/clothing2/validate/long_sleeve_tops/lo...</td>\n",
       "      <td>../data/shoes/train/ankle_boots/8112971.72.jpg</td>\n",
       "      <td>1.0</td>\n",
       "    </tr>\n",
       "    <tr>\n",
       "      <th>4</th>\n",
       "      <td>../data/clothing2/train/white_pants/white_pant...</td>\n",
       "      <td>../data/shoes/test/sandals/7505095.6.jpg</td>\n",
       "      <td>1.0</td>\n",
       "    </tr>\n",
       "  </tbody>\n",
       "</table>\n",
       "</div>"
      ],
      "text/plain": [
       "                                       clothing_path  \\\n",
       "0  ../data/clothing2/train/black_short_dresses/bl...   \n",
       "1  ../data/clothing2/train/light_blue_short_dress...   \n",
       "2  ../data/clothing2/train/brown_suede_jackets/br...   \n",
       "3  ../data/clothing2/validate/long_sleeve_tops/lo...   \n",
       "4  ../data/clothing2/train/white_pants/white_pant...   \n",
       "\n",
       "                                        shoe_path  response  \n",
       "0     ../data/shoes/train/heels/8113201.69035.jpg       0.0  \n",
       "1    ../data/shoes/train/athletic/8140605.151.jpg       0.0  \n",
       "2  ../data/shoes/train/knee_boots/7347958.281.jpg       0.0  \n",
       "3  ../data/shoes/train/ankle_boots/8112971.72.jpg       1.0  \n",
       "4        ../data/shoes/test/sandals/7505095.6.jpg       1.0  "
      ]
     },
     "execution_count": 6,
     "metadata": {},
     "output_type": "execute_result"
    }
   ],
   "source": [
    "link_df = pd.read_csv('../data/links.txt')\n",
    "print(link_df.shape)\n",
    "link_df.head()"
   ]
  },
  {
   "cell_type": "code",
   "execution_count": 34,
   "metadata": {},
   "outputs": [
    {
     "data": {
      "text/plain": [
       "array([[ 0.66003424,  1.2862924 , -0.        ,  0.5526872 , -0.        ,\n",
       "        -0.        , -0.        ,  0.93378365, -0.        , -0.        ,\n",
       "        -0.        , -0.        , -0.        , -0.        , -0.        ,\n",
       "        -0.        , -0.        , -0.        , -0.        , -0.        ,\n",
       "        -0.        ,  0.73623544, -0.        , -0.        , -0.        ,\n",
       "        -0.        , -0.        , -0.        ,  1.1155761 ,  0.18573146,\n",
       "        -0.        , -0.        , -0.        , -0.        , -0.        ,\n",
       "        -0.        , -0.        , -0.        , -0.        , -0.        ,\n",
       "        -0.        , -0.        , -0.        ,  0.9989901 , -0.        ,\n",
       "        -0.        , -0.        ,  0.8587327 , -0.        , -0.        ,\n",
       "         0.61545867,  0.10330983, -0.        , -0.        , -0.        ,\n",
       "        -0.        ,  0.2407257 , -0.        , -0.        , -0.        ,\n",
       "        -0.        , -0.        , -0.        , -0.        ,  1.01229   ,\n",
       "        -0.        , -0.        , -0.        ,  1.4732248 , -0.        ,\n",
       "        -0.        ,  0.10474291, -0.        ,  0.11248066, -0.        ,\n",
       "        -0.        , -0.        , -0.        , -0.        , -0.        ,\n",
       "         0.6040988 ,  0.666904  , -0.        , -0.        ,  1.9129443 ,\n",
       "         0.71266806, -0.        ,  1.1647706 ,  0.1280356 , -0.        ,\n",
       "        -0.        , -0.        ,  0.65396   , -0.        , -0.        ,\n",
       "         0.04766469,  0.41231057, -0.        ,  1.1436272 ,  0.15631695,\n",
       "        -0.        , -0.        ,  1.2022301 ,  1.0226526 , -0.        ,\n",
       "         0.05659066, -0.        ,  1.0424534 , -0.        , -0.        ,\n",
       "        -0.        ,  1.0471089 ,  1.471751  ,  0.49817777,  0.6351009 ,\n",
       "        -0.        , -0.        , -0.        ,  2.0362768 , -0.        ,\n",
       "        -0.        , -0.        ,  0.8333915 , -0.        , -0.        ,\n",
       "        -0.        , -0.        , -0.        , -0.        ,  0.0578189 ,\n",
       "         0.23781629, -0.        , -0.        ,  0.08345001, -0.        ,\n",
       "        -0.        , -0.        , -0.        , -0.        ,  0.8550822 ,\n",
       "         0.44437417, -0.        , -0.        , -0.        , -0.        ,\n",
       "        -0.        ,  0.316728  ,  1.1282011 ,  0.22660238, -0.        ,\n",
       "        -0.        , -0.        , -0.        , -0.        ,  0.60275316,\n",
       "        -0.        ,  0.46851167, -0.        , -0.        , -0.        ,\n",
       "        -0.        , -0.        ,  0.22086973, -0.        ,  1.0486238 ,\n",
       "        -0.        , -0.        , -0.        , -0.        , -0.        ,\n",
       "        -0.        ,  0.7290857 , -0.        , -0.        , -0.        ,\n",
       "        -0.        , -0.        , -0.        , -0.        , -0.        ,\n",
       "        -0.        , -0.        , -0.        ,  0.8992413 ,  0.18773234,\n",
       "         1.8447717 , -0.        , -0.        ,  1.6284919 , -0.        ,\n",
       "         1.1395698 ,  0.06443653, -0.        ,  0.9593533 , -0.        ,\n",
       "         0.11037674, -0.        , -0.        , -0.        ,  0.5534178 ,\n",
       "        -0.        , -0.        ,  0.5424689 , -0.        , -0.        ,\n",
       "         1.4337147 ,  0.19764207, -0.        ,  1.053982  , -0.        ,\n",
       "         1.0218385 ,  1.2413672 ,  0.57655203, -0.        ,  1.5408945 ,\n",
       "        -0.        , -0.        ,  0.78253275, -0.        ,  0.8540938 ,\n",
       "        -0.        , -0.        , -0.        , -0.        , -0.        ,\n",
       "         1.1798549 , -0.        , -0.        ,  0.9351247 , -0.        ,\n",
       "         0.51532775, -0.        , -0.        ,  0.6290037 , -0.        ,\n",
       "         1.4952589 , -0.        , -0.        , -0.        ,  0.4711957 ,\n",
       "         1.1658467 ,  1.6818147 ,  0.3944455 , -0.        ,  0.24294192,\n",
       "         0.7363299 , -0.        , -0.        , -0.        ,  1.3794088 ,\n",
       "        -0.        , -0.        , -0.        , -0.        , -0.        ,\n",
       "        -0.        , -0.        , -0.        ,  0.8053217 ,  0.14687651,\n",
       "        -0.        ,  0.14535949, -0.        ,  0.27168164, -0.        ,\n",
       "        -0.        ,  0.30163735,  0.3661449 , -0.        ,  0.5387994 ,\n",
       "        -0.        , -0.        , -0.        , -0.        , -0.        ,\n",
       "         0.08711674, -0.        , -0.        ,  0.86681074, -0.        ,\n",
       "        -0.        , -0.        , -0.        , -0.        , -0.        ,\n",
       "         0.83045536,  1.1880095 , -0.        , -0.        , -0.        ,\n",
       "        -0.        , -0.        , -0.        , -0.        , -0.        ,\n",
       "        -0.        , -0.        ,  0.50120085,  1.1239362 ,  0.78001577],\n",
       "       [-0.        , -0.        ,  1.0172956 ,  1.2528838 ,  1.2339898 ,\n",
       "         0.5890479 , -0.        ,  1.6657205 ,  0.6165106 , -0.        ,\n",
       "        -0.        , -0.        , -0.        ,  0.19058114, -0.        ,\n",
       "        -0.        ,  1.0866742 , -0.        ,  1.3737614 , -0.        ,\n",
       "         0.68850815, -0.        , -0.        , -0.        ,  0.09207844,\n",
       "        -0.        , -0.        ,  0.9171357 ,  0.24253397, -0.        ,\n",
       "        -0.        , -0.        , -0.        , -0.        , -0.        ,\n",
       "        -0.        , -0.        , -0.        , -0.        ,  0.74671453,\n",
       "         0.14231801, -0.        ,  0.3751678 ,  0.95097065, -0.        ,\n",
       "        -0.        , -0.        , -0.        ,  0.17942515, -0.        ,\n",
       "        -0.        , -0.        , -0.        , -0.        , -0.        ,\n",
       "        -0.        ,  1.2491376 , -0.        , -0.        ,  0.5198588 ,\n",
       "        -0.        , -0.        ,  0.41713208, -0.        ,  1.0467448 ,\n",
       "         0.21506451, -0.        ,  0.03248236, -0.        , -0.        ,\n",
       "         1.5782787 , -0.        , -0.        ,  0.9047841 ,  0.17069505,\n",
       "        -0.        ,  0.34250706, -0.        , -0.        ,  0.45517582,\n",
       "         1.1514419 ,  0.67535186, -0.        , -0.        ,  0.10880591,\n",
       "         2.1678107 , -0.        , -0.        , -0.        , -0.        ,\n",
       "         1.0474154 , -0.        , -0.        ,  0.5362855 , -0.        ,\n",
       "        -0.        ,  0.6380378 , -0.        , -0.        ,  0.12987879,\n",
       "        -0.        , -0.        , -0.        , -0.        , -0.        ,\n",
       "        -0.        ,  0.17056957,  1.8849818 , -0.        , -0.        ,\n",
       "        -0.        , -0.        ,  0.9772432 , -0.        ,  1.3591553 ,\n",
       "        -0.        , -0.        , -0.        , -0.        ,  0.6899134 ,\n",
       "        -0.        , -0.        , -0.        , -0.        ,  0.19258058,\n",
       "        -0.        , -0.        , -0.        ,  0.29506385, -0.        ,\n",
       "        -0.        , -0.        ,  0.27229697, -0.        ,  2.2262557 ,\n",
       "        -0.        , -0.        ,  0.9930309 , -0.        , -0.        ,\n",
       "         1.3833159 ,  0.14661849, -0.        , -0.        ,  1.2158443 ,\n",
       "        -0.        , -0.        ,  1.7875979 , -0.        , -0.        ,\n",
       "         0.5564536 ,  0.05122126, -0.        ,  1.2561858 , -0.        ,\n",
       "         0.9374156 , -0.        , -0.        , -0.        , -0.        ,\n",
       "         1.5915682 , -0.        , -0.        ,  1.1131269 , -0.        ,\n",
       "        -0.        , -0.        , -0.        , -0.        , -0.        ,\n",
       "         0.50353587, -0.        , -0.        , -0.        , -0.        ,\n",
       "        -0.        , -0.        ,  0.47703332, -0.        , -0.        ,\n",
       "        -0.        ,  1.4380274 ,  0.36616263,  2.530944  , -0.        ,\n",
       "         0.9606261 ,  0.39471954, -0.        ,  1.3972852 , -0.        ,\n",
       "         1.0192015 , -0.        , -0.        , -0.        , -0.        ,\n",
       "         0.97339654, -0.        ,  0.25176716, -0.        , -0.        ,\n",
       "        -0.        ,  1.903839  ,  0.51944095, -0.        , -0.        ,\n",
       "        -0.        ,  2.1021028 , -0.        , -0.        ,  0.19668414,\n",
       "         1.2925818 , -0.        , -0.        , -0.        ,  1.8194344 ,\n",
       "         0.7932021 ,  0.763973  , -0.        , -0.        , -0.        ,\n",
       "         1.14995   ,  0.7640794 ,  0.8261193 , -0.        , -0.        ,\n",
       "         0.80855167, -0.        ,  1.0094177 ,  0.68676746, -0.        ,\n",
       "        -0.        , -0.        , -0.        , -0.        ,  1.021329  ,\n",
       "         1.9212729 ,  1.3988372 , -0.        ,  0.47184944,  1.1984556 ,\n",
       "         1.340099  ,  2.139602  , -0.        , -0.        , -0.        ,\n",
       "        -0.        , -0.        , -0.        , -0.        , -0.        ,\n",
       "        -0.        , -0.        ,  0.267885  , -0.        , -0.        ,\n",
       "         0.80018383, -0.        , -0.        ,  0.19238462, -0.        ,\n",
       "        -0.        , -0.        , -0.        , -0.        , -0.        ,\n",
       "         1.1706523 ,  0.08933564, -0.        , -0.        , -0.        ,\n",
       "        -0.        ,  1.4564826 , -0.        , -0.        ,  0.27127263,\n",
       "         0.47254845,  0.9934921 , -0.        , -0.        , -0.        ,\n",
       "        -0.        , -0.        , -0.        , -0.        , -0.        ,\n",
       "        -0.        ,  1.7823597 ,  0.5653032 ,  0.6662144 , -0.        ,\n",
       "        -0.        , -0.        , -0.        ,  0.15223603, -0.        ,\n",
       "        -0.        , -0.        , -0.        ,  0.50963455,  0.6777949 ]],\n",
       "      dtype=float32)"
      ]
     },
     "execution_count": 34,
     "metadata": {},
     "output_type": "execute_result"
    }
   ],
   "source": [
    "# clothing_train = np.array([])\n",
    "clothing_train = np.vstack((clothing_dict[link_df['clothing_path'][0]], clothing_dict[link_df['clothing_path'][1]]))\n",
    "# clothing_train = np.append(clothing_train, clothing_dict[link_df['clothing_path'][1]])\n",
    "clothing_train"
   ]
  },
  {
   "cell_type": "code",
   "execution_count": 24,
   "metadata": {},
   "outputs": [
    {
     "data": {
      "text/plain": [
       "array([], dtype=float64)"
      ]
     },
     "execution_count": 24,
     "metadata": {},
     "output_type": "execute_result"
    }
   ],
   "source": [
    "clothing_train"
   ]
  },
  {
   "cell_type": "code",
   "execution_count": null,
   "metadata": {},
   "outputs": [],
   "source": []
  },
  {
   "cell_type": "code",
   "execution_count": null,
   "metadata": {},
   "outputs": [],
   "source": [
    "CLOTHING_DIM = 6\n",
    "SHOE_DIM = 2\n",
    "\n",
    "clothe_input = Input(shape=[CLOTHING_DIM], name='clothing_input')\n",
    "clothe_transform = Dense(SHOE_DIM, activation='linear', name='clothe_to_shoe')(clothe_input)\n",
    "\n",
    "shoe_input = Input(shape=[SHOE_DIM], name='shoe_input')\n",
    "\n",
    "prod = Dot(axes=1, name='DotProduct')([clothe_transform, shoe_input])\n",
    "pred = Dense(1, name='Prediction',  activation='sigmoid')(prod)\n",
    "\n",
    "model = Model(inputs=[clothe_input, shoe_input], outputs=[pred])\n",
    "model.compile('adam', 'binary_crossentropy', metrics=['accuracy'])"
   ]
  },
  {
   "cell_type": "code",
   "execution_count": null,
   "metadata": {},
   "outputs": [],
   "source": []
  }
 ],
 "metadata": {
  "kernelspec": {
   "display_name": "Python 3",
   "language": "python",
   "name": "python3"
  },
  "language_info": {
   "codemirror_mode": {
    "name": "ipython",
    "version": 3
   },
   "file_extension": ".py",
   "mimetype": "text/x-python",
   "name": "python",
   "nbconvert_exporter": "python",
   "pygments_lexer": "ipython3",
   "version": "3.6.7"
  }
 },
 "nbformat": 4,
 "nbformat_minor": 2
}
