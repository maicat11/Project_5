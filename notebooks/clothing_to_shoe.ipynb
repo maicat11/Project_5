{
 "cells": [
  {
   "cell_type": "markdown",
   "metadata": {},
   "source": [
    "# Clothing Vec to Shoe Vec Training"
   ]
  },
  {
   "cell_type": "code",
   "execution_count": 1,
   "metadata": {},
   "outputs": [
    {
     "name": "stderr",
     "output_type": "stream",
     "text": [
      "Using TensorFlow backend.\n"
     ]
    }
   ],
   "source": [
    "import keras\n",
    "from keras.layers import Input, Dense, Dot, Softmax\n",
    "from keras.models import Model\n",
    "from keras.callbacks import ModelCheckpoint, EarlyStopping\n",
    "from sklearn.utils import shuffle\n",
    "\n",
    "import numpy as np\n",
    "import pandas as pd\n",
    "\n",
    "import matplotlib.pyplot as plt\n",
    "%matplotlib inline"
   ]
  },
  {
   "cell_type": "code",
   "execution_count": 2,
   "metadata": {},
   "outputs": [],
   "source": [
    "# create a lookup vector dictionary for clothing and shoes\n",
    "clothing_df = pd.read_pickle('saved_models/dense_clothing_df.pickle')\n",
    "shoe_df = pd.read_pickle('saved_models/dense_shoe_df_aws.pickle')\n",
    "# shoe_df.index = pd.Series(shoe_df.index).apply(lambda x: '../' + x)\n",
    "\n",
    "clothing_dim = clothing_df.shape[1]\n",
    "shoe_dim = shoe_df.shape[1]\n",
    "\n",
    "clothing_dict = {}\n",
    "for idx in clothing_df.index:\n",
    "    clothing_dict[idx] = np.array(clothing_df.loc[idx]).reshape(1, clothing_dim)\n",
    "    \n",
    "shoe_dict = {}\n",
    "for idx in shoe_df.index:\n",
    "    shoe_dict[idx] = np.array(shoe_df.loc[idx]).reshape(1, shoe_dim)"
   ]
  },
  {
   "cell_type": "code",
   "execution_count": 3,
   "metadata": {},
   "outputs": [
    {
     "name": "stdout",
     "output_type": "stream",
     "text": [
      "(7736, 3)\n"
     ]
    },
    {
     "data": {
      "text/html": [
       "<div>\n",
       "<style scoped>\n",
       "    .dataframe tbody tr th:only-of-type {\n",
       "        vertical-align: middle;\n",
       "    }\n",
       "\n",
       "    .dataframe tbody tr th {\n",
       "        vertical-align: top;\n",
       "    }\n",
       "\n",
       "    .dataframe thead th {\n",
       "        text-align: right;\n",
       "    }\n",
       "</style>\n",
       "<table border=\"1\" class=\"dataframe\">\n",
       "  <thead>\n",
       "    <tr style=\"text-align: right;\">\n",
       "      <th></th>\n",
       "      <th>clothing_path</th>\n",
       "      <th>shoe_path</th>\n",
       "      <th>response</th>\n",
       "    </tr>\n",
       "  </thead>\n",
       "  <tbody>\n",
       "    <tr>\n",
       "      <th>0</th>\n",
       "      <td>../data/clothing2/train/light_blue_short_dress...</td>\n",
       "      <td>../data/shoes/train/athletic/8140605.151.jpg</td>\n",
       "      <td>0</td>\n",
       "    </tr>\n",
       "    <tr>\n",
       "      <th>1</th>\n",
       "      <td>../data/clothing2/train/brown_suede_jackets/br...</td>\n",
       "      <td>../data/shoes/train/knee_boots/7347958.281.jpg</td>\n",
       "      <td>0</td>\n",
       "    </tr>\n",
       "    <tr>\n",
       "      <th>2</th>\n",
       "      <td>../data/clothing2/validate/long_sleeve_tops/lo...</td>\n",
       "      <td>../data/shoes/train/ankle_boots/8112971.72.jpg</td>\n",
       "      <td>1</td>\n",
       "    </tr>\n",
       "    <tr>\n",
       "      <th>3</th>\n",
       "      <td>../data/clothing2/train/white_pants/white_pant...</td>\n",
       "      <td>../data/shoes/test/sandals/7505095.6.jpg</td>\n",
       "      <td>1</td>\n",
       "    </tr>\n",
       "    <tr>\n",
       "      <th>4</th>\n",
       "      <td>../data/clothing2/train/spring_floral_dresses/...</td>\n",
       "      <td>../data/shoes/train/sandals/8081068.4535.jpg</td>\n",
       "      <td>0</td>\n",
       "    </tr>\n",
       "  </tbody>\n",
       "</table>\n",
       "</div>"
      ],
      "text/plain": [
       "                                       clothing_path  \\\n",
       "0  ../data/clothing2/train/light_blue_short_dress...   \n",
       "1  ../data/clothing2/train/brown_suede_jackets/br...   \n",
       "2  ../data/clothing2/validate/long_sleeve_tops/lo...   \n",
       "3  ../data/clothing2/train/white_pants/white_pant...   \n",
       "4  ../data/clothing2/train/spring_floral_dresses/...   \n",
       "\n",
       "                                        shoe_path  response  \n",
       "0    ../data/shoes/train/athletic/8140605.151.jpg         0  \n",
       "1  ../data/shoes/train/knee_boots/7347958.281.jpg         0  \n",
       "2  ../data/shoes/train/ankle_boots/8112971.72.jpg         1  \n",
       "3        ../data/shoes/test/sandals/7505095.6.jpg         1  \n",
       "4    ../data/shoes/train/sandals/8081068.4535.jpg         0  "
      ]
     },
     "execution_count": 3,
     "metadata": {},
     "output_type": "execute_result"
    }
   ],
   "source": [
    "link_df = pd.read_csv('../data/links.txt')\n",
    "link_df = link_df.dropna().reset_index(drop=True)\n",
    "print(link_df.shape)\n",
    "link_df.head()"
   ]
  },
  {
   "cell_type": "code",
   "execution_count": 4,
   "metadata": {},
   "outputs": [],
   "source": [
    "def get_dataset(df, dictionary, c_or_s):\n",
    "    assert (c_or_s == 'c' or c_or_s == 's')\n",
    "    if c_or_s == 'c':\n",
    "        array = np.empty(shape=(0, clothing_dim))\n",
    "        path = 'clothing_path'\n",
    "    else:\n",
    "        array = np.empty(shape=(0, shoe_dim))\n",
    "        path = 'shoe_path'\n",
    "    \n",
    "    for i in range(df.shape[0]):\n",
    "        try:\n",
    "            array = np.append(array, dictionary[df[path][i]], axis=0)\n",
    "        except KeyError:\n",
    "            print(df[path][i])\n",
    "        \n",
    "    return array"
   ]
  },
  {
   "cell_type": "code",
   "execution_count": 6,
   "metadata": {
    "scrolled": true
   },
   "outputs": [],
   "source": [
    "link_df = shuffle(link_df)\n",
    "split1 = int(link_df.shape[0]*0.8)\n",
    "split2 = int(link_df.shape[0]*0.9)\n",
    "\n",
    "train_paths = link_df.iloc[0:split1].reset_index(drop=True)\n",
    "valid_paths = link_df.iloc[split1:split2].reset_index(drop=True)\n",
    "test_paths = link_df.iloc[split2:].reset_index(drop=True)\n",
    "\n",
    "train_cloth_vecs = get_dataset(train_paths, clothing_dict, 'c')\n",
    "valid_cloth_vecs = get_dataset(valid_paths, clothing_dict, 'c')\n",
    "test_cloth_vecs = get_dataset(test_paths, clothing_dict, 'c')\n",
    "\n",
    "train_shoe_vecs = get_dataset(train_paths, shoe_dict, 's')\n",
    "valid_shoe_vecs = get_dataset(valid_paths, shoe_dict, 's')\n",
    "test_shoe_vecs = get_dataset(test_paths, shoe_dict, 's')\n",
    "\n",
    "train_targets = np.array(link_df['response'].iloc[0:split1])\n",
    "valid_targets = np.array(link_df['response'].iloc[split1:split2])\n",
    "test_targets = np.array(link_df['response'].iloc[split2:])"
   ]
  },
  {
   "cell_type": "markdown",
   "metadata": {},
   "source": [
    "**Transform the clothing vector space into shoe vector space**"
   ]
  },
  {
   "cell_type": "code",
   "execution_count": 7,
   "metadata": {},
   "outputs": [
    {
     "name": "stdout",
     "output_type": "stream",
     "text": [
      "__________________________________________________________________________________________________\n",
      "Layer (type)                    Output Shape         Param #     Connected to                     \n",
      "==================================================================================================\n",
      "clothing_input (InputLayer)     (None, 300)          0                                            \n",
      "__________________________________________________________________________________________________\n",
      "clothing_to_shoe (Dense)        (None, 300)          90300       clothing_input[0][0]             \n",
      "__________________________________________________________________________________________________\n",
      "shoe_input (InputLayer)         (None, 300)          0                                            \n",
      "__________________________________________________________________________________________________\n",
      "DotProduct (Dot)                (None, 1)            0           clothing_to_shoe[0][0]           \n",
      "                                                                 shoe_input[0][0]                 \n",
      "__________________________________________________________________________________________________\n",
      "Prediction (Dense)              (None, 1)            2           DotProduct[0][0]                 \n",
      "==================================================================================================\n",
      "Total params: 90,302\n",
      "Trainable params: 90,302\n",
      "Non-trainable params: 0\n",
      "__________________________________________________________________________________________________\n"
     ]
    }
   ],
   "source": [
    "clothing_input = Input(shape=[clothing_dim], name='clothing_input')\n",
    "clothing_transform = Dense(shoe_dim, activation='linear', name='clothing_to_shoe')(clothing_input)\n",
    "\n",
    "shoe_input = Input(shape=[shoe_dim], name='shoe_input')\n",
    "\n",
    "prod = Dot(axes=1, name='DotProduct', normalize=True)([clothing_transform, shoe_input])\n",
    "pred = Dense(1, name='Prediction',  activation='sigmoid')(prod)\n",
    "\n",
    "model = Model(inputs=[clothing_input, shoe_input], outputs=[pred])\n",
    "model.summary()"
   ]
  },
  {
   "cell_type": "code",
   "execution_count": 8,
   "metadata": {},
   "outputs": [],
   "source": [
    "model.compile(optimizer='Adam', loss='binary_crossentropy', metrics=['accuracy'])"
   ]
  },
  {
   "cell_type": "code",
   "execution_count": 9,
   "metadata": {
    "scrolled": true
   },
   "outputs": [
    {
     "name": "stdout",
     "output_type": "stream",
     "text": [
      "Train on 6188 samples, validate on 774 samples\n",
      "Epoch 1/30\n",
      "6188/6188 [==============================] - 2s 302us/step - loss: 0.6220 - acc: 0.6862 - val_loss: 0.5913 - val_acc: 0.7132\n",
      "\n",
      "Epoch 00001: val_loss improved from inf to 0.59126, saving model to saved_models/weights.best.vector_links.hdf5\n",
      "Epoch 2/30\n",
      "6188/6188 [==============================] - 2s 258us/step - loss: 0.5878 - acc: 0.6991 - val_loss: 0.5688 - val_acc: 0.7390\n",
      "\n",
      "Epoch 00002: val_loss improved from 0.59126 to 0.56881, saving model to saved_models/weights.best.vector_links.hdf5\n",
      "Epoch 3/30\n",
      "6188/6188 [==============================] - 2s 266us/step - loss: 0.5682 - acc: 0.7117 - val_loss: 0.5529 - val_acc: 0.7390\n",
      "\n",
      "Epoch 00003: val_loss improved from 0.56881 to 0.55288, saving model to saved_models/weights.best.vector_links.hdf5\n",
      "Epoch 4/30\n",
      "6188/6188 [==============================] - 2s 258us/step - loss: 0.5529 - acc: 0.7241 - val_loss: 0.5415 - val_acc: 0.7209\n",
      "\n",
      "Epoch 00004: val_loss improved from 0.55288 to 0.54151, saving model to saved_models/weights.best.vector_links.hdf5\n",
      "Epoch 5/30\n",
      "6188/6188 [==============================] - 2s 263us/step - loss: 0.5402 - acc: 0.7295 - val_loss: 0.5365 - val_acc: 0.7545\n",
      "\n",
      "Epoch 00005: val_loss improved from 0.54151 to 0.53652, saving model to saved_models/weights.best.vector_links.hdf5\n",
      "Epoch 6/30\n",
      "6188/6188 [==============================] - 2s 251us/step - loss: 0.5292 - acc: 0.7421 - val_loss: 0.5224 - val_acc: 0.7416\n",
      "\n",
      "Epoch 00006: val_loss improved from 0.53652 to 0.52243, saving model to saved_models/weights.best.vector_links.hdf5\n",
      "Epoch 7/30\n",
      "6188/6188 [==============================] - 2s 268us/step - loss: 0.5186 - acc: 0.7544 - val_loss: 0.5147 - val_acc: 0.7468\n",
      "\n",
      "Epoch 00007: val_loss improved from 0.52243 to 0.51474, saving model to saved_models/weights.best.vector_links.hdf5\n",
      "Epoch 8/30\n",
      "6188/6188 [==============================] - 2s 251us/step - loss: 0.5095 - acc: 0.7629 - val_loss: 0.5104 - val_acc: 0.7506\n",
      "\n",
      "Epoch 00008: val_loss improved from 0.51474 to 0.51040, saving model to saved_models/weights.best.vector_links.hdf5\n",
      "Epoch 9/30\n",
      "6188/6188 [==============================] - 2s 264us/step - loss: 0.5001 - acc: 0.7650 - val_loss: 0.5054 - val_acc: 0.7571\n",
      "\n",
      "Epoch 00009: val_loss improved from 0.51040 to 0.50543, saving model to saved_models/weights.best.vector_links.hdf5\n",
      "Epoch 10/30\n",
      "6188/6188 [==============================] - 2s 255us/step - loss: 0.4928 - acc: 0.7775 - val_loss: 0.5019 - val_acc: 0.7674\n",
      "\n",
      "Epoch 00010: val_loss improved from 0.50543 to 0.50186, saving model to saved_models/weights.best.vector_links.hdf5\n",
      "Epoch 11/30\n",
      "6188/6188 [==============================] - 2s 258us/step - loss: 0.4841 - acc: 0.7859 - val_loss: 0.4936 - val_acc: 0.7481\n",
      "\n",
      "Epoch 00011: val_loss improved from 0.50186 to 0.49361, saving model to saved_models/weights.best.vector_links.hdf5\n",
      "Epoch 12/30\n",
      "6188/6188 [==============================] - 2s 269us/step - loss: 0.4769 - acc: 0.7859 - val_loss: 0.4936 - val_acc: 0.7791\n",
      "\n",
      "Epoch 00012: val_loss did not improve from 0.49361\n",
      "Epoch 13/30\n",
      "6188/6188 [==============================] - 2s 244us/step - loss: 0.4701 - acc: 0.7901 - val_loss: 0.4877 - val_acc: 0.7765\n",
      "\n",
      "Epoch 00013: val_loss improved from 0.49361 to 0.48775, saving model to saved_models/weights.best.vector_links.hdf5\n",
      "Epoch 14/30\n",
      "6188/6188 [==============================] - 2s 256us/step - loss: 0.4643 - acc: 0.7928 - val_loss: 0.4914 - val_acc: 0.7881\n",
      "\n",
      "Epoch 00014: val_loss did not improve from 0.48775\n",
      "Epoch 15/30\n",
      "6188/6188 [==============================] - 2s 244us/step - loss: 0.4577 - acc: 0.7972 - val_loss: 0.4796 - val_acc: 0.7674\n",
      "\n",
      "Epoch 00015: val_loss improved from 0.48775 to 0.47963, saving model to saved_models/weights.best.vector_links.hdf5\n",
      "Epoch 16/30\n",
      "6188/6188 [==============================] - 2s 308us/step - loss: 0.4520 - acc: 0.8007 - val_loss: 0.4760 - val_acc: 0.7687\n",
      "\n",
      "Epoch 00016: val_loss improved from 0.47963 to 0.47596, saving model to saved_models/weights.best.vector_links.hdf5\n",
      "Epoch 17/30\n",
      "6188/6188 [==============================] - 2s 273us/step - loss: 0.4451 - acc: 0.8045 - val_loss: 0.4814 - val_acc: 0.7907\n",
      "\n",
      "Epoch 00017: val_loss did not improve from 0.47596\n",
      "Epoch 18/30\n",
      "6188/6188 [==============================] - 2s 248us/step - loss: 0.4411 - acc: 0.8067 - val_loss: 0.4708 - val_acc: 0.7791\n",
      "\n",
      "Epoch 00018: val_loss improved from 0.47596 to 0.47076, saving model to saved_models/weights.best.vector_links.hdf5\n",
      "Epoch 19/30\n",
      "6188/6188 [==============================] - 2s 264us/step - loss: 0.4366 - acc: 0.8085 - val_loss: 0.4724 - val_acc: 0.7855\n",
      "\n",
      "Epoch 00019: val_loss did not improve from 0.47076\n",
      "Epoch 20/30\n",
      "6188/6188 [==============================] - 2s 243us/step - loss: 0.4304 - acc: 0.8109 - val_loss: 0.4658 - val_acc: 0.7855\n",
      "\n",
      "Epoch 00020: val_loss improved from 0.47076 to 0.46579, saving model to saved_models/weights.best.vector_links.hdf5\n",
      "Epoch 21/30\n",
      "6188/6188 [==============================] - 2s 252us/step - loss: 0.4256 - acc: 0.8129 - val_loss: 0.4624 - val_acc: 0.7661\n",
      "\n",
      "Epoch 00021: val_loss improved from 0.46579 to 0.46241, saving model to saved_models/weights.best.vector_links.hdf5\n",
      "Epoch 22/30\n",
      "6188/6188 [==============================] - 2s 304us/step - loss: 0.4199 - acc: 0.8205 - val_loss: 0.4605 - val_acc: 0.7829\n",
      "\n",
      "Epoch 00022: val_loss improved from 0.46241 to 0.46049, saving model to saved_models/weights.best.vector_links.hdf5\n",
      "Epoch 23/30\n",
      "6188/6188 [==============================] - 2s 287us/step - loss: 0.4156 - acc: 0.8184 - val_loss: 0.4684 - val_acc: 0.7713\n",
      "\n",
      "Epoch 00023: val_loss did not improve from 0.46049\n",
      "Epoch 24/30\n",
      "6188/6188 [==============================] - 2s 272us/step - loss: 0.4108 - acc: 0.8214 - val_loss: 0.4639 - val_acc: 0.7791\n",
      "\n",
      "Epoch 00024: val_loss did not improve from 0.46049\n",
      "Epoch 25/30\n",
      "6188/6188 [==============================] - 2s 292us/step - loss: 0.4060 - acc: 0.8250 - val_loss: 0.4645 - val_acc: 0.7726\n",
      "\n",
      "Epoch 00025: val_loss did not improve from 0.46049\n"
     ]
    }
   ],
   "source": [
    "epochs = 30\n",
    "\n",
    "early_stop = EarlyStopping(monitor='val_loss', patience=3)\n",
    "checkpointer = ModelCheckpoint(filepath='saved_models/weights.best.vector_links.hdf5', \n",
    "                               verbose=1, save_best_only=True)\n",
    "\n",
    "history = model.fit([train_cloth_vecs, train_shoe_vecs], train_targets, epochs=epochs, \n",
    "                    validation_data=([valid_cloth_vecs, valid_shoe_vecs], valid_targets),\n",
    "                    verbose=1, callbacks=[checkpointer, early_stop])"
   ]
  },
  {
   "cell_type": "code",
   "execution_count": 10,
   "metadata": {},
   "outputs": [
    {
     "data": {
      "image/png": "[encoded data removed]",
      "text/plain": [
       "<Figure size 1152x360 with 2 Axes>"
      ]
     },
     "metadata": {
      "needs_background": "light"
     },
     "output_type": "display_data"
    }
   ],
   "source": [
    "acc = history.history['acc']\n",
    "val_acc = history.history['val_acc']\n",
    "loss = history.history['loss']\n",
    "val_loss = history.history['val_loss']\n",
    "epochs = range(1, len(acc) + 1)\n",
    "plt.figure(figsize=(16,5))\n",
    "plt.subplot(1,2,1)\n",
    "plt.plot(epochs, acc, 'bo', label='Training acc')\n",
    "plt.plot(epochs, val_acc, 'b', label='Validation acc', c='r')\n",
    "plt.title('Training and validation accuracy')\n",
    "plt.legend()\n",
    "plt.subplot(1,2,2)\n",
    "plt.plot(epochs, loss, 'bo', label='Training loss')\n",
    "plt.plot(epochs, val_loss, 'b', label='Validation loss', c='r')\n",
    "plt.title('Training and validation loss')\n",
    "plt.legend();"
   ]
  },
  {
   "cell_type": "code",
   "execution_count": 11,
   "metadata": {},
   "outputs": [
    {
     "data": {
      "text/plain": [
       "66.9250645994832"
      ]
     },
     "execution_count": 11,
     "metadata": {},
     "output_type": "execute_result"
    }
   ],
   "source": [
    "# get index of predicted item for each image in test set\n",
    "predictions = model.predict([test_cloth_vecs, test_shoe_vecs])\n",
    "predictions[:] = predictions[:] > 0.899999999\n",
    "predictions = predictions.reshape(1, -1)\n",
    "test_accuracy = 100*np.sum(predictions==test_targets) / predictions.shape[1]\n",
    "test_accuracy"
   ]
  },
  {
   "cell_type": "markdown",
   "metadata": {},
   "source": [
    "**Get the transformation from clothing space to shoe space**"
   ]
  },
  {
   "cell_type": "code",
   "execution_count": 12,
   "metadata": {},
   "outputs": [],
   "source": [
    "dress_to_shoe_transform = Model(inputs=[clothing_input], outputs=[clothing_transform])"
   ]
  },
  {
   "cell_type": "code",
   "execution_count": 13,
   "metadata": {},
   "outputs": [
    {
     "data": {
      "text/plain": [
       "(6188, 300)"
      ]
     },
     "execution_count": 13,
     "metadata": {},
     "output_type": "execute_result"
    }
   ],
   "source": [
    "dress_to_shoe_transform.predict(train_cloth_vecs).shape"
   ]
  },
  {
   "cell_type": "code",
   "execution_count": 14,
   "metadata": {},
   "outputs": [
    {
     "data": {
      "text/plain": [
       "[array([[-4.189083]], dtype=float32), array([-0.9166377], dtype=float32)]"
      ]
     },
     "execution_count": 14,
     "metadata": {},
     "output_type": "execute_result"
    }
   ],
   "source": [
    "model.get_layer(name='Prediction').get_weights() # did not save this one "
   ]
  },
  {
   "cell_type": "code",
   "execution_count": 15,
   "metadata": {},
   "outputs": [],
   "source": [
    "dress_to_shoe_transform.save('saved_models/dress2shoe_aws.h5')\n",
    "dress_to_shoe_transform.save_weights('saved_models/dress2shoe_weights_aws.hdf5')"
   ]
  },
  {
   "cell_type": "code",
   "execution_count": null,
   "metadata": {},
   "outputs": [],
   "source": []
  },
  {
   "cell_type": "code",
   "execution_count": null,
   "metadata": {},
   "outputs": [],
   "source": []
  }
 ],
 "metadata": {
  "kernelspec": {
   "display_name": "fixed_kernel",
   "language": "python",
   "name": "project5_2"
  },
  "language_info": {
   "codemirror_mode": {
    "name": "ipython",
    "version": 3
   },
   "file_extension": ".py",
   "mimetype": "text/x-python",
   "name": "python",
   "nbconvert_exporter": "python",
   "pygments_lexer": "ipython3",
   "version": "3.6.8"
  }
 },
 "nbformat": 4,
 "nbformat_minor": 2
}
