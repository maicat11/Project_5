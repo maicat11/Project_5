{
 "cells": [
  {
   "cell_type": "code",
   "execution_count": 1,
   "metadata": {},
   "outputs": [
    {
     "name": "stderr",
     "output_type": "stream",
     "text": [
      "Using TensorFlow backend.\n"
     ]
    }
   ],
   "source": [
    "import keras\n",
    "from keras.layers import Input, Dense, Dot, Softmax\n",
    "from keras.models import Model\n",
    "\n",
    "import numpy as np"
   ]
  },
  {
   "cell_type": "markdown",
   "metadata": {},
   "source": [
    "We will make 6 dimensional clothing vectors, and train the way to find transform them into the 2 dimensional \"shoe vector\" space"
   ]
  },
  {
   "cell_type": "code",
   "execution_count": 2,
   "metadata": {},
   "outputs": [],
   "source": [
    "CLOTHING_DIM = 6\n",
    "SHOE_DIM = 2\n",
    "\n",
    "clothe_input = Input(shape=[CLOTHING_DIM], name='clothing_input')\n",
    "clothe_transform = Dense(SHOE_DIM, activation='linear', name='clothe_to_shoe')(clothe_input)\n",
    "\n",
    "shoe_input = Input(shape=[SHOE_DIM], name='shoe_input')\n",
    "\n",
    "prod = Dot(axes=1, name='DotProduct')([clothe_transform, shoe_input])\n",
    "pred = Dense(1, name='Prediction',  activation='sigmoid')(prod)\n",
    "\n",
    "model = Model(inputs=[clothe_input, shoe_input], outputs=[pred])\n",
    "model.compile('adam', 'binary_crossentropy', metrics=['accuracy'])"
   ]
  },
  {
   "cell_type": "code",
   "execution_count": 11,
   "metadata": {},
   "outputs": [
    {
     "name": "stdout",
     "output_type": "stream",
     "text": [
      "__________________________________________________________________________________________________\n",
      "Layer (type)                    Output Shape         Param #     Connected to                     \n",
      "==================================================================================================\n",
      "clothing_input (InputLayer)     (None, 6)            0                                            \n",
      "__________________________________________________________________________________________________\n",
      "clothe_to_shoe (Dense)          (None, 2)            14          clothing_input[0][0]             \n",
      "__________________________________________________________________________________________________\n",
      "shoe_input (InputLayer)         (None, 2)            0                                            \n",
      "__________________________________________________________________________________________________\n",
      "DotProduct (Dot)                (None, 1)            0           clothe_to_shoe[0][0]             \n",
      "                                                                 shoe_input[0][0]                 \n",
      "__________________________________________________________________________________________________\n",
      "Prediction (Dense)              (None, 1)            2           DotProduct[0][0]                 \n",
      "==================================================================================================\n",
      "Total params: 16\n",
      "Trainable params: 16\n",
      "Non-trainable params: 0\n",
      "__________________________________________________________________________________________________\n"
     ]
    }
   ],
   "source": [
    "model.summary()"
   ]
  },
  {
   "cell_type": "markdown",
   "metadata": {},
   "source": [
    "Now let's make up some data to fit (4 examples of clothes are shoe pairings).\n",
    "\n",
    "In the real example, it would be \"clothing_vector shoe_vector\" and the corresponding rating. Note the same \"clothing vector\" and \"shoe_vector\" can appear on multiple rows."
   ]
  },
  {
   "cell_type": "code",
   "execution_count": 9,
   "metadata": {},
   "outputs": [],
   "source": [
    "train_clothe = np.array([[0,0,1,1,-1,-1], [1,0.2,0,0.2,-1,-1], [1,1,1,0.3,-1,0], [1,0.3,0.4,0.2,0.2,-1]]).astype('float')\n",
    "train_shoe = np.array([[1,1],[0.2,1],[0.3,0.2],[-0.1,0.2]]).astype('float')\n",
    "ratings = np.array([1,0,1,0])"
   ]
  },
  {
   "cell_type": "markdown",
   "metadata": {},
   "source": [
    "Fit the model"
   ]
  },
  {
   "cell_type": "code",
   "execution_count": 10,
   "metadata": {},
   "outputs": [
    {
     "data": {
      "text/plain": [
       "<keras.callbacks.History at 0xb3b6e3358>"
      ]
     },
     "execution_count": 10,
     "metadata": {},
     "output_type": "execute_result"
    }
   ],
   "source": [
    "model.fit([train_clothe, train_shoe], ratings, epochs=8000, verbose=0)"
   ]
  },
  {
   "cell_type": "markdown",
   "metadata": {},
   "source": [
    "Notice how close these are to the made up ratings"
   ]
  },
  {
   "cell_type": "code",
   "execution_count": 12,
   "metadata": {},
   "outputs": [
    {
     "data": {
      "text/plain": [
       "array([[1.0000000e+00],\n",
       "       [1.1837942e-04],\n",
       "       [9.9985456e-01],\n",
       "       [8.0105133e-04]], dtype=float32)"
      ]
     },
     "execution_count": 12,
     "metadata": {},
     "output_type": "execute_result"
    }
   ],
   "source": [
    "model.predict([train_clothe, train_shoe])"
   ]
  },
  {
   "cell_type": "markdown",
   "metadata": {},
   "source": [
    "## Now get the transformation from clothing space to shoe space"
   ]
  },
  {
   "cell_type": "markdown",
   "metadata": {},
   "source": [
    "Let's get just the transformation that takes a dress vector (dim `CLOTHING_DIM`=6) and returns a shoe vector (dim `SHOE_DIM`=2)"
   ]
  },
  {
   "cell_type": "code",
   "execution_count": 13,
   "metadata": {},
   "outputs": [
    {
     "data": {
      "text/plain": [
       "array([[ 9.540722 , -4.370069 ],\n",
       "       [10.104689 , -4.1889424],\n",
       "       [12.708819 , -4.3997965],\n",
       "       [ 8.85155  , -3.6856136]], dtype=float32)"
      ]
     },
     "execution_count": 13,
     "metadata": {},
     "output_type": "execute_result"
    }
   ],
   "source": [
    "dress_to_shoe = Model(inputs=[clothe_input], outputs=[clothe_transform])\n",
    "shoe_vectors = dress_to_shoe.predict(train_clothe)\n",
    "shoe_vectors"
   ]
  },
  {
   "cell_type": "code",
   "execution_count": null,
   "metadata": {},
   "outputs": [],
   "source": []
  },
  {
   "cell_type": "code",
   "execution_count": 14,
   "metadata": {},
   "outputs": [
    {
     "data": {
      "text/plain": [
       "array([ 5.17065287, -2.1680047 ,  2.93268652, -1.62227774])"
      ]
     },
     "execution_count": 14,
     "metadata": {},
     "output_type": "execute_result"
    }
   ],
   "source": [
    "# This is the dot product, check results from above\n",
    "np.sum(shoe_vectors * train_shoe, axis=1)"
   ]
  },
  {
   "cell_type": "markdown",
   "metadata": {},
   "source": [
    "We can also extract the weights from that layer directly and build the transformation\n",
    "\n",
    "$$\\text{shoe vector} = Ax + b$$\n",
    "\n",
    "where $x$ is the `dress_vector`"
   ]
  },
  {
   "cell_type": "code",
   "execution_count": 15,
   "metadata": {},
   "outputs": [
    {
     "data": {
      "text/plain": [
       "array([[ 3.8497903 , -1.2229562 ],\n",
       "       [ 1.5255924 , -0.9807685 ],\n",
       "       [ 2.1056201 ,  0.2662897 ],\n",
       "       [ 1.856652  , -2.3331583 ],\n",
       "       [-1.8732889 ,  0.41240817],\n",
       "       [-0.9076289 ,  0.5407866 ]], dtype=float32)"
      ]
     },
     "execution_count": 15,
     "metadata": {},
     "output_type": "execute_result"
    }
   ],
   "source": [
    "A, b = model.get_layer(name='clothe_to_shoe').get_weights()\n",
    "A"
   ]
  },
  {
   "cell_type": "markdown",
   "metadata": {},
   "source": [
    "Let's manually construct the clothes vectors"
   ]
  },
  {
   "cell_type": "code",
   "execution_count": 16,
   "metadata": {},
   "outputs": [
    {
     "data": {
      "text/plain": [
       "array([[ 9.54072177, -4.37006932],\n",
       "       [10.10468884, -4.18894231],\n",
       "       [12.70881925, -4.39979661],\n",
       "       [ 8.85154949, -3.68561347]])"
      ]
     },
     "execution_count": 16,
     "metadata": {},
     "output_type": "execute_result"
    }
   ],
   "source": [
    "output2 = train_clothe @ A + b\n",
    "output2"
   ]
  },
  {
   "cell_type": "markdown",
   "metadata": {},
   "source": [
    "Let's show this is the same (up to rounding) as the `shoe_vectors` we found the hard way earlier"
   ]
  },
  {
   "cell_type": "code",
   "execution_count": 17,
   "metadata": {},
   "outputs": [
    {
     "data": {
      "text/plain": [
       "True"
      ]
     },
     "execution_count": 17,
     "metadata": {},
     "output_type": "execute_result"
    }
   ],
   "source": [
    "np.allclose(output2, shoe_vectors)"
   ]
  },
  {
   "cell_type": "code",
   "execution_count": 18,
   "metadata": {},
   "outputs": [
    {
     "data": {
      "text/plain": [
       "array([[-1.19209290e-07, -2.98023224e-07],\n",
       "       [ 1.90734863e-07,  1.19209290e-07],\n",
       "       [-1.43051148e-07, -1.19209290e-07],\n",
       "       [-6.07967376e-07,  1.60932541e-07]])"
      ]
     },
     "execution_count": 18,
     "metadata": {},
     "output_type": "execute_result"
    }
   ],
   "source": [
    "# numerically\n",
    "output2 - shoe_vectors"
   ]
  },
  {
   "cell_type": "code",
   "execution_count": 19,
   "metadata": {},
   "outputs": [
    {
     "data": {
      "text/plain": [
       "[array([[3.50489]], dtype=float32), array([-1.4428793], dtype=float32)]"
      ]
     },
     "execution_count": 19,
     "metadata": {},
     "output_type": "execute_result"
    }
   ],
   "source": [
    "# Hopefully in your real model these numbers will be positive, especially the first one\n",
    "model.get_layer(name='Prediction').get_weights()"
   ]
  },
  {
   "cell_type": "markdown",
   "metadata": {},
   "source": [
    "## New clothes"
   ]
  },
  {
   "cell_type": "markdown",
   "metadata": {},
   "source": [
    "The process for new clothes:\n",
    "1. Get the clothe_vector using the pre-existing model\n",
    "2. Use `dress_to_shoe.predict` to get the corresponding shoe vector\n",
    "3. Now look in the neighborhood of those returned shoe vectors. Use a neighborhood model here to find similar shoes"
   ]
  },
  {
   "cell_type": "code",
   "execution_count": null,
   "metadata": {},
   "outputs": [],
   "source": []
  }
 ],
 "metadata": {
  "kernelspec": {
   "display_name": "Python 3",
   "language": "python",
   "name": "python3"
  },
  "language_info": {
   "codemirror_mode": {
    "name": "ipython",
    "version": 3
   },
   "file_extension": ".py",
   "mimetype": "text/x-python",
   "name": "python",
   "nbconvert_exporter": "python",
   "pygments_lexer": "ipython3",
   "version": "3.6.7"
  }
 },
 "nbformat": 4,
 "nbformat_minor": 2
}
