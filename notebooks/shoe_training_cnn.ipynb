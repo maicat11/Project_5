{
 "cells": [
  {
   "cell_type": "markdown",
   "metadata": {},
   "source": [
    "# Shoe Training via Same CNN Pipeline as Clothing"
   ]
  },
  {
   "cell_type": "code",
   "execution_count": 9,
   "metadata": {},
   "outputs": [],
   "source": [
    "import numpy as np\n",
    "from glob import glob\n",
    "\n",
    "# import necessary keras modules\n",
    "from keras.preprocessing import image \n",
    "from keras.utils import np_utils\n",
    "from keras.preprocessing.image import ImageDataGenerator\n",
    "from keras.callbacks import ModelCheckpoint, EarlyStopping  \n",
    "from keras.layers import Conv2D, MaxPooling2D, GlobalAveragePooling2D\n",
    "from keras.layers import Dropout, Flatten, Dense\n",
    "from keras.models import Sequential\n",
    "from keras.layers.normalization import BatchNormalization\n",
    "\n",
    "# custom functions\n",
    "from layer_output import get_dense_layer, all_dense_data, path_to_tensor, paths_to_tensor\n",
    "from loading import load_files       \n",
    "\n",
    "import matplotlib.pyplot as plt\n",
    "%matplotlib inline"
   ]
  },
  {
   "cell_type": "code",
   "execution_count": 2,
   "metadata": {},
   "outputs": [
    {
     "name": "stdout",
     "output_type": "stream",
     "text": [
      "There are 9 total shoe categories.\n",
      "There are 24674 total shoe images.\n",
      "\n",
      "There are 19975 training shoe images.\n",
      "There are 2473 validation shoe images.\n",
      "There are 2226 test shoe images.\n"
     ]
    }
   ],
   "source": [
    "# define function to load train, test, and validation datasets\n",
    "def load_dataset(path):\n",
    "    data = load_files(path, ignore_files='.DS_Store')\n",
    "    shoe_files = np.array(data['filenames'])\n",
    "    shoe_targets = np_utils.to_categorical(np.array(data['target']), 9)\n",
    "    return shoe_files, shoe_targets\n",
    "\n",
    "# load train, test, and validation datasets\n",
    "train_files, train_targets = load_dataset('../data/shoes/train')\n",
    "valid_files, valid_targets = load_dataset('../data/shoes/validate')\n",
    "test_files, test_targets = load_dataset('../data/shoes/test')\n",
    "\n",
    "# load list of clothing names\n",
    "shoe_names = [item[20:-1] for item in sorted(glob(\"../data/shoes/train/*/\"))]\n",
    "\n",
    "# print info about the dataset\n",
    "print(f'There are {len(shoe_names)} total shoe categories.')\n",
    "print(f'There are {len(np.hstack([train_files, valid_files, test_files]))} total shoe images.\\n')\n",
    "print(f'There are {len(train_files)} training shoe images.')\n",
    "print(f'There are {len(valid_files)} validation shoe images.')\n",
    "print(f'There are {len(test_files)} test shoe images.')"
   ]
  },
  {
   "cell_type": "code",
   "execution_count": 3,
   "metadata": {},
   "outputs": [
    {
     "name": "stderr",
     "output_type": "stream",
     "text": [
      "100%|██████████| 19975/19975 [00:28<00:00, 710.72it/s]\n",
      "100%|██████████| 2473/2473 [00:03<00:00, 621.20it/s]\n",
      "100%|██████████| 2226/2226 [00:03<00:00, 712.69it/s]\n"
     ]
    }
   ],
   "source": [
    "from PIL import ImageFile                            \n",
    "ImageFile.LOAD_TRUNCATED_IMAGES = True                 \n",
    "\n",
    "# pre-process the data for Keras\n",
    "# rescale the images by dividing every pixel in every image by 255.\n",
    "train_tensors = paths_to_tensor(train_files).astype('float32')/255\n",
    "valid_tensors = paths_to_tensor(valid_files).astype('float32')/255\n",
    "test_tensors = paths_to_tensor(test_files).astype('float32')/255"
   ]
  },
  {
   "cell_type": "markdown",
   "metadata": {},
   "source": [
    "## Build the CNN Architechture"
   ]
  },
  {
   "cell_type": "code",
   "execution_count": 10,
   "metadata": {},
   "outputs": [
    {
     "name": "stdout",
     "output_type": "stream",
     "text": [
      "_________________________________________________________________\n",
      "Layer (type)                 Output Shape              Param #   \n",
      "=================================================================\n",
      "batch_normalization_3 (Batch (None, 224, 224, 3)       12        \n",
      "_________________________________________________________________\n",
      "conv2d_7 (Conv2D)            (None, 110, 110, 16)      1216      \n",
      "_________________________________________________________________\n",
      "max_pooling2d_7 (MaxPooling2 (None, 55, 55, 16)        0         \n",
      "_________________________________________________________________\n",
      "conv2d_8 (Conv2D)            (None, 26, 26, 32)        12832     \n",
      "_________________________________________________________________\n",
      "max_pooling2d_8 (MaxPooling2 (None, 13, 13, 32)        0         \n",
      "_________________________________________________________________\n",
      "dropout_5 (Dropout)          (None, 13, 13, 32)        0         \n",
      "_________________________________________________________________\n",
      "conv2d_9 (Conv2D)            (None, 6, 6, 64)          8256      \n",
      "_________________________________________________________________\n",
      "max_pooling2d_9 (MaxPooling2 (None, 3, 3, 64)          0         \n",
      "_________________________________________________________________\n",
      "global_average_pooling2d_3 ( (None, 64)                0         \n",
      "_________________________________________________________________\n",
      "vectors (Dense)              (None, 150)               9750      \n",
      "_________________________________________________________________\n",
      "dropout_6 (Dropout)          (None, 150)               0         \n",
      "_________________________________________________________________\n",
      "dense_2 (Dense)              (None, 9)                 1359      \n",
      "=================================================================\n",
      "Total params: 33,425\n",
      "Trainable params: 33,419\n",
      "Non-trainable params: 6\n",
      "_________________________________________________________________\n"
     ]
    }
   ],
   "source": [
    "model = Sequential()\n",
    "\n",
    "# Define the architecture.\n",
    "model.add(BatchNormalization(input_shape=(224, 224, 3)))\n",
    "model.add(Conv2D(filters=16, kernel_size=5, strides=2, padding='valid', activation='relu', \n",
    "                 input_shape=(224, 224, 3)))\n",
    "model.add(MaxPooling2D(pool_size=2))\n",
    "model.add(Conv2D(filters=32, kernel_size=5, strides=2, padding='valid', activation='relu'))\n",
    "model.add(MaxPooling2D(pool_size=2))\n",
    "model.add(Dropout(rate=0.3))\n",
    "model.add(Conv2D(filters=64, kernel_size=2, strides=2, padding='valid', activation='relu'))\n",
    "model.add(MaxPooling2D(pool_size=2))\n",
    "model.add(GlobalAveragePooling2D())\n",
    "\n",
    "model.add(Dense(units=300, activation='relu', name='vectors')) # extract vectors from here and cluster\n",
    "model.add(Dropout(rate=0.3))\n",
    "model.add(Dense(len(shoe_names), activation='softmax'))\n",
    "\n",
    "model.summary()"
   ]
  },
  {
   "cell_type": "code",
   "execution_count": 11,
   "metadata": {},
   "outputs": [],
   "source": [
    "# compile the model \n",
    "# model.compile(optimizer='rmsprop', loss='categorical_crossentropy', metrics=['accuracy'])\n",
    "\n",
    "# compile the model\n",
    "model.compile(loss='categorical_crossentropy', optimizer='Adam', metrics=['accuracy'])"
   ]
  },
  {
   "cell_type": "code",
   "execution_count": 7,
   "metadata": {},
   "outputs": [],
   "source": [
    "# create and configure augmented image generator\n",
    "datagen_train = ImageDataGenerator(\n",
    "    width_shift_range=0.1,  # randomly shift images horizontally (10% of total width)\n",
    "    height_shift_range=0.1,  # randomly shift images vertically (10% of total height)\n",
    "    horizontal_flip=True) # randomly flip images horizontally\n",
    "\n",
    "datagen_train.fit(train_tensors)"
   ]
  },
  {
   "cell_type": "code",
   "execution_count": 12,
   "metadata": {
    "scrolled": true
   },
   "outputs": [
    {
     "name": "stdout",
     "output_type": "stream",
     "text": [
      "Train on 19975 samples, validate on 2473 samples\n",
      "Epoch 1/20\n",
      "19975/19975 [==============================] - 168s 8ms/step - loss: 1.2573 - acc: 0.5324 - val_loss: 0.8824 - val_acc: 0.6915\n",
      "\n",
      "Epoch 00001: val_loss improved from inf to 0.88237, saving model to saved_models/weights.best.from_scratch_shoes.hdf5\n",
      "Epoch 2/20\n",
      "19975/19975 [==============================] - 156s 8ms/step - loss: 0.8595 - acc: 0.6902 - val_loss: 0.6743 - val_acc: 0.7594\n",
      "\n",
      "Epoch 00002: val_loss improved from 0.88237 to 0.67434, saving model to saved_models/weights.best.from_scratch_shoes.hdf5\n",
      "Epoch 3/20\n",
      "19975/19975 [==============================] - 151s 8ms/step - loss: 0.7659 - acc: 0.7270 - val_loss: 0.6284 - val_acc: 0.7727\n",
      "\n",
      "Epoch 00003: val_loss improved from 0.67434 to 0.62837, saving model to saved_models/weights.best.from_scratch_shoes.hdf5\n",
      "Epoch 4/20\n",
      "19975/19975 [==============================] - 151s 8ms/step - loss: 0.6995 - acc: 0.7514 - val_loss: 0.6030 - val_acc: 0.7820\n",
      "\n",
      "Epoch 00004: val_loss improved from 0.62837 to 0.60305, saving model to saved_models/weights.best.from_scratch_shoes.hdf5\n",
      "Epoch 5/20\n",
      "19975/19975 [==============================] - 157s 8ms/step - loss: 0.6625 - acc: 0.7591 - val_loss: 0.5651 - val_acc: 0.7990\n",
      "\n",
      "Epoch 00005: val_loss improved from 0.60305 to 0.56515, saving model to saved_models/weights.best.from_scratch_shoes.hdf5\n",
      "Epoch 6/20\n",
      "19975/19975 [==============================] - 168s 8ms/step - loss: 0.6354 - acc: 0.7690 - val_loss: 0.5489 - val_acc: 0.8095\n",
      "\n",
      "Epoch 00006: val_loss improved from 0.56515 to 0.54890, saving model to saved_models/weights.best.from_scratch_shoes.hdf5\n",
      "Epoch 7/20\n",
      "19975/19975 [==============================] - 178s 9ms/step - loss: 0.6032 - acc: 0.7816 - val_loss: 0.5195 - val_acc: 0.8116\n",
      "\n",
      "Epoch 00007: val_loss improved from 0.54890 to 0.51947, saving model to saved_models/weights.best.from_scratch_shoes.hdf5\n",
      "Epoch 8/20\n",
      "19975/19975 [==============================] - 166s 8ms/step - loss: 0.5958 - acc: 0.7844 - val_loss: 0.5091 - val_acc: 0.8217\n",
      "\n",
      "Epoch 00008: val_loss improved from 0.51947 to 0.50908, saving model to saved_models/weights.best.from_scratch_shoes.hdf5\n",
      "Epoch 9/20\n",
      "19975/19975 [==============================] - 174s 9ms/step - loss: 0.5723 - acc: 0.7969 - val_loss: 0.5146 - val_acc: 0.8124\n",
      "\n",
      "Epoch 00009: val_loss did not improve from 0.50908\n",
      "Epoch 10/20\n",
      "19975/19975 [==============================] - 163s 8ms/step - loss: 0.5628 - acc: 0.7932 - val_loss: 0.5369 - val_acc: 0.8023\n",
      "\n",
      "Epoch 00010: val_loss did not improve from 0.50908\n",
      "Epoch 11/20\n",
      "19975/19975 [==============================] - 171s 9ms/step - loss: 0.5486 - acc: 0.8013 - val_loss: 0.4855 - val_acc: 0.8269\n",
      "\n",
      "Epoch 00011: val_loss improved from 0.50908 to 0.48546, saving model to saved_models/weights.best.from_scratch_shoes.hdf5\n",
      "Epoch 12/20\n",
      "19975/19975 [==============================] - 170s 9ms/step - loss: 0.5366 - acc: 0.8043 - val_loss: 0.4946 - val_acc: 0.8197\n",
      "\n",
      "Epoch 00012: val_loss did not improve from 0.48546\n",
      "Epoch 13/20\n",
      "19975/19975 [==============================] - 173s 9ms/step - loss: 0.5303 - acc: 0.8089 - val_loss: 0.5155 - val_acc: 0.8172\n",
      "\n",
      "Epoch 00013: val_loss did not improve from 0.48546\n",
      "Epoch 14/20\n",
      "19975/19975 [==============================] - 173s 9ms/step - loss: 0.5234 - acc: 0.8082 - val_loss: 0.5022 - val_acc: 0.8176\n",
      "\n",
      "Epoch 00014: val_loss did not improve from 0.48546\n",
      "Epoch 15/20\n",
      "19975/19975 [==============================] - 160s 8ms/step - loss: 0.5006 - acc: 0.8141 - val_loss: 0.4689 - val_acc: 0.8261\n",
      "\n",
      "Epoch 00015: val_loss improved from 0.48546 to 0.46892, saving model to saved_models/weights.best.from_scratch_shoes.hdf5\n",
      "Epoch 16/20\n",
      "19975/19975 [==============================] - 153s 8ms/step - loss: 0.4972 - acc: 0.8170 - val_loss: 0.4536 - val_acc: 0.8322\n",
      "\n",
      "Epoch 00016: val_loss improved from 0.46892 to 0.45363, saving model to saved_models/weights.best.from_scratch_shoes.hdf5\n",
      "Epoch 17/20\n",
      "19975/19975 [==============================] - 153s 8ms/step - loss: 0.5029 - acc: 0.8176 - val_loss: 0.4449 - val_acc: 0.8370\n",
      "\n",
      "Epoch 00017: val_loss improved from 0.45363 to 0.44494, saving model to saved_models/weights.best.from_scratch_shoes.hdf5\n",
      "Epoch 18/20\n",
      "19975/19975 [==============================] - 153s 8ms/step - loss: 0.4776 - acc: 0.8259 - val_loss: 0.4314 - val_acc: 0.8415\n",
      "\n",
      "Epoch 00018: val_loss improved from 0.44494 to 0.43143, saving model to saved_models/weights.best.from_scratch_shoes.hdf5\n",
      "Epoch 19/20\n",
      "19975/19975 [==============================] - 151s 8ms/step - loss: 0.4882 - acc: 0.8170 - val_loss: 0.4428 - val_acc: 0.8411\n",
      "\n",
      "Epoch 00019: val_loss did not improve from 0.43143\n",
      "Epoch 20/20\n",
      "19975/19975 [==============================] - 148s 7ms/step - loss: 0.4775 - acc: 0.8236 - val_loss: 0.4427 - val_acc: 0.8427\n",
      "\n",
      "Epoch 00020: val_loss did not improve from 0.43143\n"
     ]
    }
   ],
   "source": [
    "epochs = 25\n",
    "\n",
    "early_stop = early_stop = EarlyStopping(monitor='val_loss', patience=4)\n",
    "\n",
    "checkpointer = ModelCheckpoint(filepath='saved_models/weights.best.from_scratch_shoes.hdf5', \n",
    "                               verbose=1, save_best_only=True)\n",
    "history = model.fit(train_tensors, train_targets, \n",
    "          validation_data=(valid_tensors, valid_targets),\n",
    "          epochs=epochs, batch_size=32, callbacks=[checkpointer, early_stop], verbose=1)\n"
   ]
  },
  {
   "cell_type": "markdown",
   "metadata": {},
   "source": [
    "## Graph of training/validation Accuracy and Loss"
   ]
  },
  {
   "cell_type": "code",
   "execution_count": 13,
   "metadata": {},
   "outputs": [
    {
     "data": {
      "image/png": "[encoded data removed]",
      "text/plain": [
       "<Figure size 432x288 with 1 Axes>"
      ]
     },
     "metadata": {
      "needs_background": "light"
     },
     "output_type": "display_data"
    },
    {
     "data": {
      "image/png": "[encoded data removed]",
      "text/plain": [
       "<Figure size 432x288 with 1 Axes>"
      ]
     },
     "metadata": {
      "needs_background": "light"
     },
     "output_type": "display_data"
    }
   ],
   "source": [
    "acc = history.history['acc']\n",
    "val_acc = history.history['val_acc']\n",
    "loss = history.history['loss']\n",
    "val_loss = history.history['val_loss']\n",
    "epochs = range(1, len(acc) + 1)\n",
    "plt.plot(epochs, acc, 'bo', label='Training acc')\n",
    "plt.plot(epochs, val_acc, 'b', label='Validation acc', c='red')\n",
    "plt.title('Training and validation accuracy')\n",
    "plt.legend()\n",
    "plt.figure()\n",
    "plt.plot(epochs, loss, 'bo', label='Training loss')\n",
    "plt.plot(epochs, val_loss, 'b', label='Validation loss', c='red')\n",
    "plt.title('Training and validation loss')\n",
    "plt.legend();"
   ]
  },
  {
   "cell_type": "code",
   "execution_count": 14,
   "metadata": {},
   "outputs": [
    {
     "name": "stdout",
     "output_type": "stream",
     "text": [
      "Test accuracy: 82.929\n"
     ]
    }
   ],
   "source": [
    "# get index of predicted item for each image in test set\n",
    "shoe_predictions = [np.argmax(model.predict(np.expand_dims(tensor, axis=0))) for tensor in test_tensors]\n",
    "\n",
    "# report test accuracy\n",
    "test_accuracy = 100*np.sum(np.array(shoe_predictions)==np.argmax(test_targets, axis=1))/len(shoe_predictions)\n",
    "print('Test accuracy: {}'.format(round(test_accuracy, 4)))"
   ]
  },
  {
   "cell_type": "code",
   "execution_count": 15,
   "metadata": {},
   "outputs": [],
   "source": [
    "# https://towardsdatascience.com/visualizing-intermediate-activation-in-convolutional\n",
    "# -neural-networks-with-keras-260b36d60d0\n",
    "model.save('saved_models/shoes_cnn.h5')\n",
    "# load the model with best validation loss\n",
    "model.load_weights('saved_models/weights.best.from_scratch_shoes.hdf5')\n"
   ]
  },
  {
   "cell_type": "code",
   "execution_count": 17,
   "metadata": {},
   "outputs": [
    {
     "data": {
      "image/png": "[encoded data removed]",
      "text/plain": [
       "<Figure size 432x288 with 1 Axes>"
      ]
     },
     "metadata": {
      "needs_background": "light"
     },
     "output_type": "display_data"
    },
    {
     "name": "stdout",
     "output_type": "stream",
     "text": [
      "(1, 224, 224, 3)\n"
     ]
    }
   ],
   "source": [
    "img_path = '../data/shoes/test/sandals/7910998.332551.jpg'\n",
    "img_tensor = path_to_tensor(img_path)\n",
    "img_tensor /= 255.\n",
    "plt.imshow(img_tensor[0])\n",
    "plt.show()\n",
    "print(img_tensor.shape)"
   ]
  },
  {
   "cell_type": "code",
   "execution_count": 21,
   "metadata": {
    "scrolled": true
   },
   "outputs": [
    {
     "name": "stdout",
     "output_type": "stream",
     "text": [
      "Predicted class is: sandals\n"
     ]
    }
   ],
   "source": [
    "# predicting images\n",
    "images = np.vstack([img_tensor])\n",
    "classes = model.predict_classes(images, batch_size=10)\n",
    "print(\"Predicted class is:\", shoe_names[int(classes)])"
   ]
  },
  {
   "cell_type": "markdown",
   "metadata": {},
   "source": [
    "## Get a matrix of all images Dense layer stacked"
   ]
  },
  {
   "cell_type": "code",
   "execution_count": 34,
   "metadata": {},
   "outputs": [],
   "source": [
    "# takes too long to run this need AWS\n",
    "all_dense, dense_df = all_dense_data(model, train_files)\n",
    "pickle.dump(dense_df, open(\"saved_models/dense_shoe_df.pickle\", \"wb\" ))\n",
    "print(all_dense.shape)\n",
    "print(dense_df.shape)\n",
    "dense_df.head()\n"
   ]
  },
  {
   "cell_type": "markdown",
   "metadata": {},
   "source": [
    "### K-Means cluster graphed"
   ]
  },
  {
   "cell_type": "code",
   "execution_count": null,
   "metadata": {},
   "outputs": [],
   "source": [
    "from sklearn.decomposition import PCA\n",
    "from sklearn.cluster import KMeans\n",
    "import pylab as pl\n",
    "\n",
    "X = all_train_dense\n",
    "targets = np.array([np.where(target == 1)[0][0] for target in train_targets])\n",
    "\n",
    "pca = PCA(n_components=2).fit(X)\n",
    "pca_2d = pca.transform(X)\n",
    "kmeans = KMeans(n_clusters=14, random_state=11)\n",
    "kmeans.fit(X)\n",
    "pl.figure('K-means with 10 clusters')\n",
    "pl.scatter(pca_2d[:, 0], pca_2d[:, 1], c=kmeans.labels_, cmap='tab10');"
   ]
  },
  {
   "cell_type": "code",
   "execution_count": 35,
   "metadata": {},
   "outputs": [
    {
     "ename": "ModuleNotFoundError",
     "evalue": "No module named 'torch'",
     "output_type": "error",
     "traceback": [
      "\u001b[0;31m---------------------------------------------------------------------------\u001b[0m",
      "\u001b[0;31mModuleNotFoundError\u001b[0m                       Traceback (most recent call last)",
      "\u001b[0;32m<ipython-input-35-d29c52593386>\u001b[0m in \u001b[0;36m<module>\u001b[0;34m\u001b[0m\n\u001b[0;32m----> 1\u001b[0;31m \u001b[0;32mimport\u001b[0m \u001b[0mtorch\u001b[0m\u001b[0;34m\u001b[0m\u001b[0;34m\u001b[0m\u001b[0m\n\u001b[0m\u001b[1;32m      2\u001b[0m \u001b[0mtorch\u001b[0m\u001b[0;34m.\u001b[0m\u001b[0mcuda\u001b[0m\u001b[0;34m.\u001b[0m\u001b[0mis_available\u001b[0m\u001b[0;34m(\u001b[0m\u001b[0;34m)\u001b[0m\u001b[0;34m\u001b[0m\u001b[0;34m\u001b[0m\u001b[0m\n",
      "\u001b[0;31mModuleNotFoundError\u001b[0m: No module named 'torch'"
     ]
    }
   ],
   "source": [
    "import torch\n",
    "torch.cuda.is_available()"
   ]
  },
  {
   "cell_type": "code",
   "execution_count": null,
   "metadata": {},
   "outputs": [],
   "source": []
  },
  {
   "cell_type": "code",
   "execution_count": null,
   "metadata": {},
   "outputs": [],
   "source": []
  },
  {
   "cell_type": "code",
   "execution_count": null,
   "metadata": {},
   "outputs": [],
   "source": []
  }
 ],
 "metadata": {
  "kernelspec": {
   "display_name": "Python 3",
   "language": "python",
   "name": "python3"
  },
  "language_info": {
   "codemirror_mode": {
    "name": "ipython",
    "version": 3
   },
   "file_extension": ".py",
   "mimetype": "text/x-python",
   "name": "python",
   "nbconvert_exporter": "python",
   "pygments_lexer": "ipython3",
   "version": "3.6.7"
  }
 },
 "nbformat": 4,
 "nbformat_minor": 2
}
