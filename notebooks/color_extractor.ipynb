{
 "cells": [
  {
   "cell_type": "code",
   "execution_count": 1,
   "metadata": {},
   "outputs": [],
   "source": [
    "# %load_ext autoreload\n",
    "# %reload_ext autoreload\n",
    "import color_extractor"
   ]
  },
  {
   "cell_type": "code",
   "execution_count": 2,
   "metadata": {},
   "outputs": [],
   "source": [
    "import PIL\n",
    "import numpy as np\n",
    "import color_extractor"
   ]
  },
  {
   "cell_type": "code",
   "execution_count": 3,
   "metadata": {},
   "outputs": [
    {
     "data": {
      "text/html": [
       "<div>\n",
       "<style scoped>\n",
       "    .dataframe tbody tr th:only-of-type {\n",
       "        vertical-align: middle;\n",
       "    }\n",
       "\n",
       "    .dataframe tbody tr th {\n",
       "        vertical-align: top;\n",
       "    }\n",
       "\n",
       "    .dataframe thead th {\n",
       "        text-align: right;\n",
       "    }\n",
       "</style>\n",
       "<table border=\"1\" class=\"dataframe\">\n",
       "  <thead>\n",
       "    <tr style=\"text-align: right;\">\n",
       "      <th></th>\n",
       "      <th>r</th>\n",
       "      <th>g</th>\n",
       "      <th>b</th>\n",
       "    </tr>\n",
       "    <tr>\n",
       "      <th>0</th>\n",
       "      <th></th>\n",
       "      <th></th>\n",
       "      <th></th>\n",
       "    </tr>\n",
       "  </thead>\n",
       "  <tbody>\n",
       "    <tr>\n",
       "      <th>brick red</th>\n",
       "      <td>143</td>\n",
       "      <td>20</td>\n",
       "      <td>2</td>\n",
       "    </tr>\n",
       "    <tr>\n",
       "      <th>sage green</th>\n",
       "      <td>136</td>\n",
       "      <td>179</td>\n",
       "      <td>120</td>\n",
       "    </tr>\n",
       "    <tr>\n",
       "      <th>grape</th>\n",
       "      <td>108</td>\n",
       "      <td>52</td>\n",
       "      <td>97</td>\n",
       "    </tr>\n",
       "    <tr>\n",
       "      <th>salmon</th>\n",
       "      <td>255</td>\n",
       "      <td>121</td>\n",
       "      <td>108</td>\n",
       "    </tr>\n",
       "    <tr>\n",
       "      <th>beige</th>\n",
       "      <td>230</td>\n",
       "      <td>218</td>\n",
       "      <td>166</td>\n",
       "    </tr>\n",
       "    <tr>\n",
       "      <th>charcoal</th>\n",
       "      <td>52</td>\n",
       "      <td>56</td>\n",
       "      <td>55</td>\n",
       "    </tr>\n",
       "    <tr>\n",
       "      <th>taupe</th>\n",
       "      <td>185</td>\n",
       "      <td>162</td>\n",
       "      <td>129</td>\n",
       "    </tr>\n",
       "    <tr>\n",
       "      <th>brownish</th>\n",
       "      <td>156</td>\n",
       "      <td>109</td>\n",
       "      <td>87</td>\n",
       "    </tr>\n",
       "    <tr>\n",
       "      <th>light grey</th>\n",
       "      <td>216</td>\n",
       "      <td>220</td>\n",
       "      <td>214</td>\n",
       "    </tr>\n",
       "    <tr>\n",
       "      <th>slate</th>\n",
       "      <td>81</td>\n",
       "      <td>101</td>\n",
       "      <td>114</td>\n",
       "    </tr>\n",
       "  </tbody>\n",
       "</table>\n",
       "</div>"
      ],
      "text/plain": [
       "              r    g    b\n",
       "0                        \n",
       "brick red   143   20    2\n",
       "sage green  136  179  120\n",
       "grape       108   52   97\n",
       "salmon      255  121  108\n",
       "beige       230  218  166\n",
       "charcoal     52   56   55\n",
       "taupe       185  162  129\n",
       "brownish    156  109   87\n",
       "light grey  216  220  214\n",
       "slate        81  101  114"
      ]
     },
     "execution_count": 3,
     "metadata": {},
     "output_type": "execute_result"
    }
   ],
   "source": [
    "color_extractor.get_important_canonical_set()"
   ]
  },
  {
   "cell_type": "code",
   "execution_count": 4,
   "metadata": {},
   "outputs": [
    {
     "data": {
      "text/plain": [
       "array([230.5, 229.5, 227.5])"
      ]
     },
     "execution_count": 4,
     "metadata": {},
     "output_type": "execute_result"
    }
   ],
   "source": [
    "# step through finding median pixel\n",
    "name = '/Users/maileivargas/Desktop/test3.jpg'\n",
    "image = PIL.Image.open(name)\n",
    "imgdata = np.array(image.resize((20,20)).getdata()).astype(float)\n",
    "pixels_to_include = (imgdata.mean(axis=1) < 240) #mask\n",
    "np.median(imgdata[pixels_to_include], axis = 0)"
   ]
  },
  {
   "cell_type": "code",
   "execution_count": 21,
   "metadata": {},
   "outputs": [
    {
     "data": {
      "text/plain": [
       "(8, 'light grey')"
      ]
     },
     "execution_count": 21,
     "metadata": {},
     "output_type": "execute_result"
    }
   ],
   "source": [
    "# test_img = '../data/shoes/test/heels/7552239.202704.jpg' # black shoe\n",
    "# test_img = '../data/shoes/test/heels/7536389.193092.jpg' # tan shoe\n",
    "# test_img = '../data/shoes/test/heels/7736398.3528.jpg'  # beige\n",
    "# test_img = '../data/shoes/test/heels/7736542.85165.jpg'  # red  FIX\n",
    "# test_img = '../data/shoes/test/heels/7890885.124204.jpg'  # navy  \n",
    "# test_img = '../data/shoes/test/heels/7925846.392674.jpg' # blue\n",
    "# test_img = '../data/shoes/test/heels/7934455.23562.jpg'  # brown\n",
    "# test_img = '../data/shoes/test/heels/7954066.3.jpg'  # black w/tan\n",
    "test_img = '../data/shoes/test/heels/8069883.388066.jpg'  # other\n",
    "\n",
    "\n",
    "color_extractor.classify_image(test_img, cutoff=240)"
   ]
  },
  {
   "cell_type": "code",
   "execution_count": 22,
   "metadata": {},
   "outputs": [
    {
     "data": {
      "image/png": "[encoded data removed]",
      "text/plain": [
       "<PIL.JpegImagePlugin.JpegImageFile image mode=RGB size=136x102 at 0x1A175900B8>"
      ]
     },
     "execution_count": 22,
     "metadata": {},
     "output_type": "execute_result"
    }
   ],
   "source": [
    "PIL.Image.open(test_img)"
   ]
  },
  {
   "cell_type": "code",
   "execution_count": null,
   "metadata": {},
   "outputs": [],
   "source": []
  },
  {
   "cell_type": "code",
   "execution_count": null,
   "metadata": {},
   "outputs": [],
   "source": []
  }
 ],
 "metadata": {
  "kernelspec": {
   "display_name": "fixed_kernel",
   "language": "python",
   "name": "project5_2"
  },
  "language_info": {
   "codemirror_mode": {
    "name": "ipython",
    "version": 3
   },
   "file_extension": ".py",
   "mimetype": "text/x-python",
   "name": "python",
   "nbconvert_exporter": "python",
   "pygments_lexer": "ipython3",
   "version": "3.6.8"
  }
 },
 "nbformat": 4,
 "nbformat_minor": 2
}
